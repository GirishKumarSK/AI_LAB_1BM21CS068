{
  "nbformat": 4,
  "nbformat_minor": 0,
  "metadata": {
    "colab": {
      "provenance": [],
      "authorship_tag": "ABX9TyNSzRvbGVMO32uncgNCET+w",
      "include_colab_link": true
    },
    "kernelspec": {
      "name": "python3",
      "display_name": "Python 3"
    },
    "language_info": {
      "name": "python"
    }
  },
  "cells": [
    {
      "cell_type": "markdown",
      "metadata": {
        "id": "view-in-github",
        "colab_type": "text"
      },
      "source": [
        "<a href=\"https://colab.research.google.com/github/GirishKumarSK/AI_LAB_1BM21CS068/blob/main/AI_Lab1_10_11_23.ipynb\" target=\"_parent\"><img src=\"https://colab.research.google.com/assets/colab-badge.svg\" alt=\"Open In Colab\"/></a>"
      ]
    },
    {
      "cell_type": "code",
      "execution_count": null,
      "metadata": {
        "colab": {
          "base_uri": "https://localhost:8080/"
        },
        "id": "HpH7eGarV0t3",
        "outputId": "cb3eb45f-104b-4126-d1c0-35527a1c0659"
      },
      "outputs": [
        {
          "output_type": "stream",
          "name": "stdout",
          "text": [
            "Hello\n"
          ]
        }
      ],
      "source": [
        "print(\"Hello\")"
      ]
    },
    {
      "cell_type": "code",
      "source": [
        "age = int(input(\"Enter your Age : \"))\n",
        "if age <=2 :\n",
        "  print(\"You are a Baby\")\n",
        "elif age <=12:\n",
        "  print(\"You are a Child\")\n",
        "elif age<18:\n",
        "  print(\"You are a Teen\")\n",
        "elif age <= 40:\n",
        "  print(\"You are a Adult Youth\")\n",
        "else :\n",
        "  print(\"You are Old\")"
      ],
      "metadata": {
        "colab": {
          "base_uri": "https://localhost:8080/"
        },
        "id": "WjnKL73bWBSd",
        "outputId": "aa56dda9-395c-4950-ff3d-ab2b40d79778"
      },
      "execution_count": null,
      "outputs": [
        {
          "output_type": "stream",
          "name": "stdout",
          "text": [
            "Enter your Age : 34\n",
            "You are a Adult Youth\n"
          ]
        }
      ]
    },
    {
      "cell_type": "code",
      "source": [
        "print(\"****Multiplication Table****\")\n",
        "num = int(input(\"Enter the Number : \"))\n",
        "for i in range(1,11):\n",
        "  print(f\"{num} x {i} = {num*i}\")"
      ],
      "metadata": {
        "colab": {
          "base_uri": "https://localhost:8080/"
        },
        "id": "Df0GMLz_XG4v",
        "outputId": "67fbdc99-35f5-4cd3-fc2d-a31798e7c6d3"
      },
      "execution_count": null,
      "outputs": [
        {
          "output_type": "stream",
          "name": "stdout",
          "text": [
            "****Multiplication Table****\n",
            "Enter the Number : 7\n",
            "7 x 1 = 7\n",
            "7 x 2 = 14\n",
            "7 x 3 = 21\n",
            "7 x 4 = 28\n",
            "7 x 5 = 35\n",
            "7 x 6 = 42\n",
            "7 x 7 = 49\n",
            "7 x 8 = 56\n",
            "7 x 9 = 63\n",
            "7 x 10 = 70\n"
          ]
        }
      ]
    },
    {
      "cell_type": "code",
      "source": [
        "print(\"****Number Pattern****\")\n",
        "num = input(\"Enter the number(>=1) : \")\n",
        "num_int = int(num)\n",
        "res = ''\n",
        "if(num_int == 1):\n",
        "  print(\"1\")\n",
        "else:\n",
        "  for i in range(1, num_int+1):\n",
        "    gk = str(i)\n",
        "    k = i\n",
        "    res = ''\n",
        "    while(k>0):\n",
        "      res = res + gk\n",
        "      k = k-1\n",
        "    print(res +', ', end='')\n"
      ],
      "metadata": {
        "colab": {
          "base_uri": "https://localhost:8080/"
        },
        "id": "IOh4uH-MX7f8",
        "outputId": "2bb9e275-1b9d-4126-d6f6-c5db62dc7838"
      },
      "execution_count": null,
      "outputs": [
        {
          "output_type": "stream",
          "name": "stdout",
          "text": [
            "****Number Pattern****\n",
            "Enter the number(>=1) : 8\n",
            "1, 22, 333, 4444, 55555, 666666, 7777777, 88888888, "
          ]
        }
      ]
    },
    {
      "cell_type": "code",
      "source": [
        "print(\"****Number Pattern****\")\n",
        "num = input(\"Enter the number(>=1) : \")\n",
        "num_int = int(num)\n",
        "res = ''\n",
        "k = num_int\n",
        "if(num_int == 1):\n",
        "  print(\"1\")\n",
        "else:\n",
        "  while k>0:\n",
        "    res = ''\n",
        "    for i in range(1, num_int - k + 2):\n",
        "      gk = str(i)\n",
        "      res = res + gk\n",
        "    print(res + ', ', end = '')\n",
        "    k = k - 1"
      ],
      "metadata": {
        "colab": {
          "base_uri": "https://localhost:8080/"
        },
        "id": "wNBEAI5XcsLa",
        "outputId": "5684fd77-6007-4a15-81c7-dde9cee654b3"
      },
      "execution_count": null,
      "outputs": [
        {
          "output_type": "stream",
          "name": "stdout",
          "text": [
            "****Number Pattern****\n",
            "Enter the number(>=1) : 15\n",
            "1, 12, 123, 1234, 12345, 123456, 1234567, 12345678, 123456789, 12345678910, 1234567891011, 123456789101112, 12345678910111213, 1234567891011121314, 123456789101112131415, "
          ]
        }
      ]
    },
    {
      "cell_type": "code",
      "source": [
        "input_string = input(\"Enter the list items with space between each item : \")\n",
        "list_item = input_string.split()\n",
        "n = len(list_item)\n",
        "print(n)\n",
        "for i in range(n):\n",
        "  list_item[i] = int(list_item[i])\n",
        "\n",
        "print(list_item)\n",
        "\n",
        "for k in range(n):\n",
        "  for j in range(n-k-1):\n",
        "    if list_item[j] > list_item[j+1]:\n",
        "      temp = list_item[j]\n",
        "      list_item[j] = list_item[j+1]\n",
        "      list_item[j+1] = temp\n",
        "\n",
        "print(\"List after Sorting :\")\n",
        "print(list_item)"
      ],
      "metadata": {
        "colab": {
          "base_uri": "https://localhost:8080/"
        },
        "id": "ZgenvBsgektk",
        "outputId": "52376c14-3809-44ee-ea6c-818bbdb567dc"
      },
      "execution_count": null,
      "outputs": [
        {
          "output_type": "stream",
          "name": "stdout",
          "text": [
            "Enter the list items with space between each item : 12 3 67 1 34 3 76 11\n",
            "8\n",
            "[12, 3, 67, 1, 34, 3, 76, 11]\n",
            "List after Sorting :\n",
            "[1, 3, 3, 11, 12, 34, 67, 76]\n"
          ]
        }
      ]
    },
    {
      "cell_type": "code",
      "source": [
        "print(\"****Reverse the Integer****\")\n",
        "num = int(input(\"Enter the number : \"))\n",
        "res = 0\n",
        "while num > 0:\n",
        "  rem = num % 10\n",
        "  res = res * 10 + rem\n",
        "  num = num // 10\n",
        "print(res)\n"
      ],
      "metadata": {
        "colab": {
          "base_uri": "https://localhost:8080/"
        },
        "id": "_hPe00GFiMgs",
        "outputId": "e7835276-bdd1-4411-d344-ad221319478e"
      },
      "execution_count": null,
      "outputs": [
        {
          "output_type": "stream",
          "name": "stdout",
          "text": [
            "****Reverse the Integer****\n",
            "Enter the number : 3456\n",
            "6543\n"
          ]
        }
      ]
    }
  ]
}